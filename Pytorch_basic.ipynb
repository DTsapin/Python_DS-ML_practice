{
 "cells": [
  {
   "cell_type": "code",
   "execution_count": 1,
   "id": "9dce8604-0e8a-486a-9053-56d6aa3a27e4",
   "metadata": {},
   "outputs": [],
   "source": [
    "import torch"
   ]
  },
  {
   "cell_type": "code",
   "execution_count": 2,
   "id": "341672fb-31c2-4ee9-aa50-621a52a4ffdb",
   "metadata": {},
   "outputs": [
    {
     "data": {
      "text/plain": [
       "True"
      ]
     },
     "execution_count": 2,
     "metadata": {},
     "output_type": "execute_result"
    }
   ],
   "source": [
    "torch.cuda.is_available()"
   ]
  },
  {
   "cell_type": "code",
   "execution_count": 3,
   "id": "82ea085f-b614-4f4f-9543-29d3f85ad483",
   "metadata": {},
   "outputs": [
    {
     "data": {
      "text/plain": [
       "1"
      ]
     },
     "execution_count": 3,
     "metadata": {},
     "output_type": "execute_result"
    }
   ],
   "source": [
    "torch.cuda.device_count()"
   ]
  },
  {
   "cell_type": "code",
   "execution_count": 4,
   "id": "91605282-6d09-42b9-a8fa-909838d97c77",
   "metadata": {},
   "outputs": [
    {
     "data": {
      "text/plain": [
       "'NVIDIA GeForce RTX 4060 Laptop GPU'"
      ]
     },
     "execution_count": 4,
     "metadata": {},
     "output_type": "execute_result"
    }
   ],
   "source": [
    "torch.cuda.get_device_name(0)"
   ]
  },
  {
   "cell_type": "code",
   "execution_count": 8,
   "id": "91aa22a4-3536-4a9d-b841-6f3a73ce7579",
   "metadata": {},
   "outputs": [],
   "source": [
    "cuda0 = torch.device(\"cuda:0\")"
   ]
  },
  {
   "cell_type": "markdown",
   "id": "c6f7fef5-5a47-4ecb-a422-80145466266f",
   "metadata": {},
   "source": [
    "Autograd"
   ]
  },
  {
   "cell_type": "code",
   "execution_count": null,
   "id": "0594a67a-4e20-42e6-b458-6a7d3dac0f62",
   "metadata": {},
   "outputs": [],
   "source": [
    "x = torch.randint(-100,100,(100,), dtype = torch.float32 , device = cuda0)\n",
    "y = (1.75*x) + 24"
   ]
  },
  {
   "cell_type": "code",
   "execution_count": 10,
   "id": "7ddf8c18-b2fb-4fa3-892b-1e6ab4d4ea4f",
   "metadata": {},
   "outputs": [],
   "source": [
    "w = torch.ones(1,requires_grad = True, device = cuda0 )\n",
    "b = torch.ones(1,requires_grad = True, device = cuda0 ) \n",
    "y_comp = (w*x) + b\n",
    "\n",
    "epochs = 10000\n",
    "lr = 0.000001"
   ]
  },
  {
   "cell_type": "code",
   "execution_count": 11,
   "id": "222914ad-be44-4835-80cf-a5f75bda8a33",
   "metadata": {},
   "outputs": [
    {
     "name": "stdout",
     "output_type": "stream",
     "text": [
      "10000\n",
      "Предсказанное w  : 1.7514230012893677\n",
      "Предсказанное b  : 20.883676528930664\n"
     ]
    }
   ],
   "source": [
    "count = 0\n",
    "for i in range(epochs):\n",
    "  loss = torch.sum((y_comp - y)**2) \n",
    "  loss.backward() \n",
    "  #w -= lr*w.grad --> this will be considered as relationship\n",
    "  with torch.no_grad(): # this will switch off gradients\n",
    "\n",
    "    w -= lr*w.grad\n",
    "    b -= lr*b.grad\n",
    "    count += 1\n",
    "    #setting gradients to be zero\n",
    "    w.grad.zero_()\n",
    "    b.grad.zero_() \n",
    "  \n",
    "  y_comp = (w*x ) + b\n",
    "\n",
    "print(count)\n",
    "print(\"Предсказанное w  :\",w.item())\n",
    "print(\"Предсказанное b  :\",b.item())"
   ]
  },
  {
   "cell_type": "markdown",
   "id": "7170ce67-6a79-4604-97c6-c1ebdfd4b134",
   "metadata": {},
   "source": [
    "Differential"
   ]
  },
  {
   "cell_type": "code",
   "execution_count": 12,
   "id": "189fa215-1d9b-4022-801a-0f8319b78deb",
   "metadata": {},
   "outputs": [
    {
     "name": "stdout",
     "output_type": "stream",
     "text": [
      "tensor([10.], requires_grad=True)\n",
      "tensor([11.], requires_grad=True)\n"
     ]
    }
   ],
   "source": [
    "x = torch.tensor([10],dtype=torch.float32,requires_grad=True)\n",
    "y = torch.tensor([11],dtype=torch.float32,requires_grad=True)\n",
    "print(x)\n",
    "print(y)"
   ]
  },
  {
   "cell_type": "code",
   "execution_count": 13,
   "id": "c0047e3b-d43c-4353-9939-92dc1d541a10",
   "metadata": {},
   "outputs": [
    {
     "name": "stdout",
     "output_type": "stream",
     "text": [
      "tensor([1210.], grad_fn=<AddBackward0>)\n"
     ]
    }
   ],
   "source": [
    "#Дифференцируемая функция\n",
    "z = ((x**2)*y) + (x*y)\n",
    "print(z)"
   ]
  },
  {
   "cell_type": "code",
   "execution_count": 14,
   "id": "9a2bf1f0-5fd1-49f4-a1fc-f5ea3e8bed1e",
   "metadata": {},
   "outputs": [
    {
     "data": {
      "text/plain": [
       "tensor(1210., grad_fn=<SumBackward0>)"
      ]
     },
     "execution_count": 14,
     "metadata": {},
     "output_type": "execute_result"
    }
   ],
   "source": [
    "total = torch.sum(z) # Перевод в скаляр\n",
    "total"
   ]
  },
  {
   "cell_type": "code",
   "execution_count": 16,
   "id": "a57387e7-0681-4c29-90d8-95ab06ea12cc",
   "metadata": {},
   "outputs": [],
   "source": [
    "total.backward() # Обратное распространение"
   ]
  },
  {
   "cell_type": "code",
   "execution_count": 17,
   "id": "6518ac92-c030-457d-9554-12b9a699f41e",
   "metadata": {},
   "outputs": [
    {
     "name": "stdout",
     "output_type": "stream",
     "text": [
      "Def with resp. to  x   : tensor([231.])\n",
      "Def with resp. to  y   : tensor([110.])\n"
     ]
    }
   ],
   "source": [
    "print(\"Def with resp. to  x   :\",x.grad)\n",
    "print(\"Def with resp. to  y   :\",y.grad)"
   ]
  },
  {
   "cell_type": "code",
   "execution_count": null,
   "id": "65467f89-de03-4cae-b3e2-bbf84937a6f5",
   "metadata": {},
   "outputs": [],
   "source": []
  }
 ],
 "metadata": {
  "kernelspec": {
   "display_name": "Python 3 (ipykernel)",
   "language": "python",
   "name": "python3"
  },
  "language_info": {
   "codemirror_mode": {
    "name": "ipython",
    "version": 3
   },
   "file_extension": ".py",
   "mimetype": "text/x-python",
   "name": "python",
   "nbconvert_exporter": "python",
   "pygments_lexer": "ipython3",
   "version": "3.9.9"
  }
 },
 "nbformat": 4,
 "nbformat_minor": 5
}
