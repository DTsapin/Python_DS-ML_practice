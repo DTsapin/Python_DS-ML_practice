{
 "cells": [
  {
   "cell_type": "code",
   "execution_count": 1,
   "id": "c3d99a51-c841-46a6-ace6-30a4e6d350ad",
   "metadata": {},
   "outputs": [],
   "source": [
    "import pandas as pd\n",
    "import numpy as np"
   ]
  },
  {
   "cell_type": "code",
   "execution_count": 2,
   "id": "e1d6d120-b71a-4baf-91c2-3f1eedf87b7c",
   "metadata": {},
   "outputs": [
    {
     "name": "stdout",
     "output_type": "stream",
     "text": [
      "black Mercedes\n",
      "black Porsche\n",
      "black BMW\n",
      "black Nissan\n",
      "black Honda\n",
      "black Subaru\n",
      "red Mercedes\n",
      "red Porsche\n",
      "red BMW\n",
      "red Nissan\n",
      "red Honda\n",
      "red Subaru\n",
      "blue Mercedes\n",
      "blue Porsche\n",
      "blue BMW\n",
      "blue Nissan\n",
      "blue Honda\n",
      "blue Subaru\n",
      "yellow Mercedes\n",
      "yellow Porsche\n",
      "yellow BMW\n",
      "yellow Nissan\n",
      "yellow Honda\n",
      "yellow Subaru\n"
     ]
    }
   ],
   "source": [
    "colors = ['black', 'red', 'blue', 'yellow']\n",
    "cars = ['Mercedes', 'Porsche', 'BMW', 'Nissan', 'Honda', 'Subaru']\n",
    "for color in colors:\n",
    "    for car in cars:\n",
    "        print(color, car)"
   ]
  },
  {
   "cell_type": "code",
   "execution_count": 3,
   "id": "6a8d2fd8-e06a-4ac3-9184-f06652cf43a5",
   "metadata": {},
   "outputs": [
    {
     "name": "stdout",
     "output_type": "stream",
     "text": [
      "0 Mercedes\n",
      "1 Porsche\n",
      "2 BMW\n",
      "3 Nissan\n",
      "4 Honda\n",
      "5 Subaru\n"
     ]
    }
   ],
   "source": [
    "cars = ['Mercedes', 'Porsche', 'BMW', 'Nissan', 'Honda', 'Subaru']\n",
    "for index, value in enumerate(cars):\n",
    "    print(index, value)"
   ]
  },
  {
   "cell_type": "code",
   "execution_count": 4,
   "id": "bcbe156e-2191-463e-82fa-7464a7196a8e",
   "metadata": {},
   "outputs": [],
   "source": [
    "df = pd.DataFrame({'Order_type': [1, 4, 6, 8], 'Sector_x': [150, 350, 0, 0],  'Sector_y': [2, 2, 300, 800]})"
   ]
  },
  {
   "cell_type": "code",
   "execution_count": 11,
   "id": "66fc0f3a-7ab4-4990-aef5-a1daeed771fb",
   "metadata": {},
   "outputs": [],
   "source": [
    "order_list = [1, 4, 6, 8]\n",
    "list_df = list()\n",
    "for z in order_list:\n",
    "    ys = df.query(f'Order_type=={z}')\n",
    "    for index, value in enumerate(df):\n",
    "        mask = ((df['Order_type']==6) | (df['Order_type']==8))\n",
    "        df.loc[mask, \"Sector_x\"] = df.loc[mask, \"Sector_y\"]\n",
    "        df[\"Sector_3\"] = df[\"Sector_x\"] / df[\"Sector_y\"]\n",
    "    list_df.append(ys)"
   ]
  },
  {
   "cell_type": "code",
   "execution_count": 12,
   "id": "cd58fa77-fb3c-4fab-88a7-b84603a6c74c",
   "metadata": {},
   "outputs": [
    {
     "data": {
      "text/plain": [
       "[   Order_type  Sector_x  Sector_y  Sector_3\n",
       " 0           1       150         2      75.0,\n",
       "    Order_type  Sector_x  Sector_y  Sector_3\n",
       " 1           4       350         2     175.0,\n",
       "    Order_type  Sector_x  Sector_y  Sector_3\n",
       " 2           6       300       300       1.0,\n",
       "    Order_type  Sector_x  Sector_y  Sector_3\n",
       " 3           8       800       800       1.0]"
      ]
     },
     "execution_count": 12,
     "metadata": {},
     "output_type": "execute_result"
    }
   ],
   "source": [
    "list_df"
   ]
  },
  {
   "cell_type": "code",
   "execution_count": 13,
   "id": "b850c783-0b2d-4223-a357-9f1e191ad611",
   "metadata": {},
   "outputs": [
    {
     "data": {
      "text/html": [
       "<div>\n",
       "<style scoped>\n",
       "    .dataframe tbody tr th:only-of-type {\n",
       "        vertical-align: middle;\n",
       "    }\n",
       "\n",
       "    .dataframe tbody tr th {\n",
       "        vertical-align: top;\n",
       "    }\n",
       "\n",
       "    .dataframe thead th {\n",
       "        text-align: right;\n",
       "    }\n",
       "</style>\n",
       "<table border=\"1\" class=\"dataframe\">\n",
       "  <thead>\n",
       "    <tr style=\"text-align: right;\">\n",
       "      <th></th>\n",
       "      <th>Order_type</th>\n",
       "      <th>Sector_x</th>\n",
       "      <th>Sector_y</th>\n",
       "      <th>Sector_3</th>\n",
       "    </tr>\n",
       "  </thead>\n",
       "  <tbody>\n",
       "    <tr>\n",
       "      <th>0</th>\n",
       "      <td>1</td>\n",
       "      <td>150</td>\n",
       "      <td>2</td>\n",
       "      <td>75.0</td>\n",
       "    </tr>\n",
       "    <tr>\n",
       "      <th>1</th>\n",
       "      <td>4</td>\n",
       "      <td>350</td>\n",
       "      <td>2</td>\n",
       "      <td>175.0</td>\n",
       "    </tr>\n",
       "    <tr>\n",
       "      <th>2</th>\n",
       "      <td>6</td>\n",
       "      <td>300</td>\n",
       "      <td>300</td>\n",
       "      <td>1.0</td>\n",
       "    </tr>\n",
       "    <tr>\n",
       "      <th>3</th>\n",
       "      <td>8</td>\n",
       "      <td>800</td>\n",
       "      <td>800</td>\n",
       "      <td>1.0</td>\n",
       "    </tr>\n",
       "  </tbody>\n",
       "</table>\n",
       "</div>"
      ],
      "text/plain": [
       "   Order_type  Sector_x  Sector_y  Sector_3\n",
       "0           1       150         2      75.0\n",
       "1           4       350         2     175.0\n",
       "2           6       300       300       1.0\n",
       "3           8       800       800       1.0"
      ]
     },
     "execution_count": 13,
     "metadata": {},
     "output_type": "execute_result"
    }
   ],
   "source": [
    "new_df = pd.concat(list_df)\n",
    "new_df"
   ]
  },
  {
   "cell_type": "code",
   "execution_count": null,
   "id": "9dc91017-f4d3-4625-831c-d7fb96da6253",
   "metadata": {},
   "outputs": [],
   "source": []
  }
 ],
 "metadata": {
  "kernelspec": {
   "display_name": "Python 3 (ipykernel)",
   "language": "python",
   "name": "python3"
  },
  "language_info": {
   "codemirror_mode": {
    "name": "ipython",
    "version": 3
   },
   "file_extension": ".py",
   "mimetype": "text/x-python",
   "name": "python",
   "nbconvert_exporter": "python",
   "pygments_lexer": "ipython3",
   "version": "3.9.9"
  }
 },
 "nbformat": 4,
 "nbformat_minor": 5
}
